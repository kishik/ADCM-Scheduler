{
 "cells": [
  {
   "cell_type": "code",
   "execution_count": 5,
   "outputs": [],
   "source": [
    "import os\n",
    "\n",
    "import pandas as pd\n",
    "import numpy as np\n",
    "from neo4j import Transaction, Session, GraphDatabase\n",
    "\n",
    "from graph_copy import graph_copy\n",
    "from neo4jexplorer import Neo4jExplorer"
   ],
   "metadata": {
    "collapsed": false
   }
  },
  {
   "cell_type": "code",
   "execution_count": 6,
   "outputs": [
    {
     "data": {
      "text/plain": "(720, 4)"
     },
     "execution_count": 6,
     "metadata": {},
     "output_type": "execute_result"
    }
   ],
   "source": [
    "df1 = pd.read_excel(\"./../new_data/Сметы Берзарина.xls\")\n",
    "df1.rename(\n",
    "    columns={\"Проект\": \"wbs1\", \"Смета\": \"wbs2\", \"Шифр\": \"wbs3_id\", \"Наименование\": \"name\"},\n",
    "    inplace=True\n",
    ")\n",
    "df1 = df1[[\"wbs1\", \"wbs2\", \"wbs3_id\", \"name\"]]\n",
    "df1.dropna(subset=[\"wbs3_id\"], inplace=True)\n",
    "df1.drop_duplicates(inplace=True)\n",
    "df1.shape"
   ],
   "metadata": {
    "collapsed": false
   }
  },
  {
   "cell_type": "code",
   "execution_count": 7,
   "outputs": [],
   "source": [
    "HIST_URI = \"neo4j+s://99c1a702.databases.neo4j.io:7687\"\n",
    "LOCAL_URI = \"neo4j://127.0.0.1:7687\"\n",
    "USER = \"neo4j\"\n",
    "PSWD = \"231099\"\n",
    "hist_driver = GraphDatabase.driver(HIST_URI, auth=(USER, PSWD))\n",
    "local_driver = GraphDatabase.driver(LOCAL_URI, auth=(USER, \"23109900\"))"
   ],
   "metadata": {
    "collapsed": false
   }
  },
  {
   "cell_type": "code",
   "execution_count": 8,
   "outputs": [
    {
     "name": "stdout",
     "output_type": "stream",
     "text": [
      "                                              n_name      n_din\n",
      "0  Установка блоков стен подвалов массой до 0,5 т...   3.7-21-1\n",
      "1  Установка секций металлического ограждения газ...  6.68-73-2\n",
      "2  Подготовка почвы для устройства партерного и о...  3.47-26-3\n",
      "3  Подготовка почвы для устройства партерного и о...  3.47-26-4\n",
      "4  Подготовка почвы для устройства партерного и о...  3.47-26-5\n",
      "       n_din      m_din  weight\n",
      "0  3.27-42-1  3.27-43-1       1\n",
      "1  3.27-42-1  3.27-43-1       1\n",
      "2  3.27-42-1  3.27-43-1       1\n",
      "3  3.27-42-1  3.27-26-1       1\n",
      "4   3.7-21-1  6.68-73-2       1\n"
     ]
    }
   ],
   "source": [
    "graph_copy(hist_driver.session(), local_driver.session())"
   ],
   "metadata": {
    "collapsed": false
   }
  },
  {
   "cell_type": "code",
   "execution_count": 9,
   "outputs": [
    {
     "data": {
      "text/plain": "133"
     },
     "execution_count": 9,
     "metadata": {},
     "output_type": "execute_result"
    }
   ],
   "source": [
    "app = Neo4jExplorer(uri=LOCAL_URI)\n",
    "hist_gesns = app.get_all_dins()\n",
    "len(hist_gesns)"
   ],
   "metadata": {
    "collapsed": false
   }
  },
  {
   "cell_type": "code",
   "execution_count": 10,
   "outputs": [
    {
     "data": {
      "text/plain": "63"
     },
     "execution_count": 10,
     "metadata": {},
     "output_type": "execute_result"
    }
   ],
   "source": [
    "input_gesns = df1.wbs3_id.unique()\n",
    "targ_gesns = np.intersect1d(hist_gesns, input_gesns)\n",
    "len(targ_gesns)"
   ],
   "metadata": {
    "collapsed": false
   }
  },
  {
   "cell_type": "code",
   "execution_count": null,
   "outputs": [],
   "source": [
    "targ_gesns[:10]"
   ],
   "metadata": {
    "collapsed": false
   }
  },
  {
   "cell_type": "code",
   "execution_count": 11,
   "outputs": [],
   "source": [
    "app.create_new_graph_algo(targ_gesns)"
   ],
   "metadata": {
    "collapsed": false
   }
  },
  {
   "cell_type": "code",
   "execution_count": 12,
   "outputs": [
    {
     "data": {
      "text/plain": "63"
     },
     "execution_count": 12,
     "metadata": {},
     "output_type": "execute_result"
    }
   ],
   "source": [
    "len(app.get_all_dins())"
   ],
   "metadata": {
    "collapsed": false
   }
  },
  {
   "cell_type": "code",
   "execution_count": null,
   "outputs": [],
   "source": [
    "hist_path = \"../data/2022-02-07 МОЭК_ЕКС график по смете.xlsx\""
   ],
   "metadata": {
    "collapsed": false
   }
  },
  {
   "cell_type": "code",
   "execution_count": null,
   "outputs": [],
   "source": [
    "from neo4j_driver import read_graph_data\n",
    "\n",
    "df = read_graph_data(hist_path)\n",
    "df.loc[df.ADCM_шифрГЭСН == \"2.1-3-38\"]"
   ],
   "metadata": {
    "collapsed": false
   }
  },
  {
   "cell_type": "code",
   "execution_count": null,
   "outputs": [],
   "source": [
    "df.loc['A3330']"
   ],
   "metadata": {
    "collapsed": false
   }
  },
  {
   "cell_type": "code",
   "execution_count": null,
   "outputs": [],
   "source": [
    "df.index[0]"
   ],
   "metadata": {
    "collapsed": false
   }
  },
  {
   "cell_type": "code",
   "execution_count": null,
   "outputs": [],
   "source": [],
   "metadata": {
    "collapsed": false
   }
  }
 ],
 "metadata": {
  "kernelspec": {
   "display_name": "Python 3 (ipykernel)",
   "language": "python",
   "name": "python3"
  },
  "language_info": {
   "codemirror_mode": {
    "name": "ipython",
    "version": 3
   },
   "file_extension": ".py",
   "mimetype": "text/x-python",
   "name": "python",
   "nbconvert_exporter": "python",
   "pygments_lexer": "ipython3",
   "version": "3.10.4"
  }
 },
 "nbformat": 4,
 "nbformat_minor": 1
}
